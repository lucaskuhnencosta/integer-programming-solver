{
 "cells": [
  {
   "metadata": {
    "ExecuteTime": {
     "end_time": "2025-04-22T21:43:13.043013Z",
     "start_time": "2025-04-22T21:43:13.040201Z"
    }
   },
   "cell_type": "code",
   "source": [
    "from parser import parse_input\n",
    "import os\n",
    "import pandas as pd\n",
    "from pre_process_constraints import pre_process_constraints\n",
    "from aux import *\n",
    "from Cliques import *\n",
    "from graph_builder import *\n",
    "from plot_graphs import *\n",
    "\n",
    "import gurobipy as gp\n",
    "from gurobipy import GRB"
   ],
   "id": "20515ee32bd1978b",
   "outputs": [],
   "execution_count": 112
  },
  {
   "metadata": {
    "ExecuteTime": {
     "end_time": "2025-04-22T21:43:13.130171Z",
     "start_time": "2025-04-22T21:43:13.126483Z"
    }
   },
   "cell_type": "code",
   "source": "current_instance=\"Inputs/instance_0004.txt\"",
   "id": "7b03b368298f1d19",
   "outputs": [],
   "execution_count": 113
  },
  {
   "metadata": {
    "ExecuteTime": {
     "end_time": "2025-04-22T21:43:13.290221Z",
     "start_time": "2025-04-22T21:43:13.286343Z"
    }
   },
   "cell_type": "code",
   "source": [
    "best_A = solution_map.get(current_instance)\n",
    "input_folder = \"Inputs\"\n",
    "instance=\"instance_0004.txt\"\n",
    "instance_path = os.path.join(input_folder, instance)"
   ],
   "id": "f02af7a834798f1c",
   "outputs": [],
   "execution_count": 114
  },
  {
   "metadata": {
    "ExecuteTime": {
     "end_time": "2025-04-22T21:43:13.395579Z",
     "start_time": "2025-04-22T21:43:13.379225Z"
    }
   },
   "cell_type": "code",
   "source": [
    "# Assuming you've already parsed the instance\n",
    "parsed_data = parse_input(current_instance)\n",
    "\n",
    "# Convert to DataFrames for better visual inspection\n",
    "orders_df = pd.DataFrame(parsed_data['orders'], columns=[f'Item {j}' for j in range(parsed_data['num_items'])])\n",
    "aisles_df = pd.DataFrame(parsed_data['aisles'], columns=[f'Item {j}' for j in range(parsed_data['num_items'])])\n",
    "\n",
    "# Add identifiers for readability\n",
    "orders_df.index = [f'Order {i}' for i in range(parsed_data['num_orders'])]\n",
    "aisles_df.index = [f'Aisle {i}' for i in range(parsed_data['num_aisles'])]\n",
    "\n",
    "# Show the results\n",
    "print(\"\\n=== Orders Matrix ===\")\n",
    "print(orders_df)\n",
    "\n",
    "print(\"\\n=== Aisles Matrix ===\")\n",
    "print(aisles_df)\n",
    "\n",
    "num_orders=parsed_data['num_orders']\n",
    "num_aisles=parsed_data['num_aisles']\n",
    "num_items=parsed_data['num_items']\n"
   ],
   "id": "cbb19e824bce17b3",
   "outputs": [
    {
     "name": "stdout",
     "output_type": "stream",
     "text": [
      "\n",
      "=== Orders Matrix ===\n",
      "          Item 0  Item 1  Item 2  Item 3  Item 4  Item 5  Item 6  Item 7  \\\n",
      "Order 0        0       0       0       0       0       0       1       0   \n",
      "Order 1        0       0       0       0       0       0       0       0   \n",
      "Order 2        0       0       0       0       0       0       0       0   \n",
      "Order 3        0       1       0       0       0       0       0       0   \n",
      "Order 4        0       0       0       0       0       0       0       0   \n",
      "Order 5        0       0       0       0       0       0       0       0   \n",
      "Order 6        0       0       0       0       0       0       0       0   \n",
      "Order 7        0       0       1       0       0       0       0       0   \n",
      "Order 8        0       0       0       0       0       0       0       0   \n",
      "Order 9        0       0       0       0       0       1       0       1   \n",
      "Order 10       0       0       0       0       0       0       0       0   \n",
      "Order 11       0       0       0       0       1       0       0       0   \n",
      "Order 12       2       0       0       0       0       0       0       0   \n",
      "Order 13       0       0       0       0       0       0       0       0   \n",
      "Order 14       0       0       0       0       0       0       0       0   \n",
      "Order 15       0       0       0       1       0       0       0       0   \n",
      "\n",
      "          Item 8  Item 9  ...  Item 49  Item 50  Item 51  Item 52  Item 53  \\\n",
      "Order 0        0       0  ...        0        0        0        0        0   \n",
      "Order 1        0       0  ...        0        0        0        0        0   \n",
      "Order 2        0       0  ...        0        0        0        0        0   \n",
      "Order 3        0       0  ...        0        1        1        0        0   \n",
      "Order 4        1       0  ...        1        0        0        0        0   \n",
      "Order 5        0       0  ...        0        0        0        0        0   \n",
      "Order 6        0       0  ...        0        0        0        0        0   \n",
      "Order 7        0       0  ...        0        0        0        0        0   \n",
      "Order 8        0       0  ...        0        0        0        0        0   \n",
      "Order 9        0       0  ...        0        0        0        0        1   \n",
      "Order 10       0       0  ...        0        0        0        0        0   \n",
      "Order 11       0       1  ...        0        0        0        1        0   \n",
      "Order 12       0       0  ...        0        0        0        0        0   \n",
      "Order 13       0       0  ...        0        0        0        0        0   \n",
      "Order 14       0       0  ...        0        0        0        0        0   \n",
      "Order 15       0       0  ...        0        0        0        0        0   \n",
      "\n",
      "          Item 54  Item 55  Item 56  Item 57  Item 58  \n",
      "Order 0         0        0        0        0        0  \n",
      "Order 1         0        0        0        0        0  \n",
      "Order 2         0        0        0        0        0  \n",
      "Order 3         0        0        0        0        0  \n",
      "Order 4         0        0        0        0        0  \n",
      "Order 5         0        0        0        0        0  \n",
      "Order 6         0        0        0        0        0  \n",
      "Order 7         0        0        0        0        0  \n",
      "Order 8         0        0        0        0        0  \n",
      "Order 9         0        0        1        0        0  \n",
      "Order 10        0        0        0        0        0  \n",
      "Order 11        0        0        0        1        0  \n",
      "Order 12        0        0        0        0        0  \n",
      "Order 13        1        1        0        0        0  \n",
      "Order 14        0        0        0        0        0  \n",
      "Order 15        0        0        0        0        1  \n",
      "\n",
      "[16 rows x 59 columns]\n",
      "\n",
      "=== Aisles Matrix ===\n",
      "          Item 0  Item 1  Item 2  Item 3  Item 4  Item 5  Item 6  Item 7  \\\n",
      "Aisle 0        0       0       0       0       0       0       0       0   \n",
      "Aisle 1        0       0       0       0       0       0       0       0   \n",
      "Aisle 2        0       0       0       0       0      10       0       0   \n",
      "Aisle 3        0       0       0       0       0       0       0       0   \n",
      "Aisle 4        0       0       0       0       0       0       0       0   \n",
      "...          ...     ...     ...     ...     ...     ...     ...     ...   \n",
      "Aisle 86       0       0       0       0       0       0       0       0   \n",
      "Aisle 87       0       0       0       0       0       0       0       0   \n",
      "Aisle 88       8       0       0       0       0       0       0       0   \n",
      "Aisle 89       0       0       0       0       0       0       0       0   \n",
      "Aisle 90       0       0       0       0      21       0       0       0   \n",
      "\n",
      "          Item 8  Item 9  ...  Item 49  Item 50  Item 51  Item 52  Item 53  \\\n",
      "Aisle 0        0       0  ...        0        0       26        0        0   \n",
      "Aisle 1        0       0  ...        0        0        0        0        0   \n",
      "Aisle 2        0       0  ...        0        5        0        0        0   \n",
      "Aisle 3        0       0  ...        0        0        0        0        0   \n",
      "Aisle 4        0       0  ...        0        0        0        0        0   \n",
      "...          ...     ...  ...      ...      ...      ...      ...      ...   \n",
      "Aisle 86       0       0  ...        0        0        0        0        0   \n",
      "Aisle 87       0       0  ...        0        0        0        0        0   \n",
      "Aisle 88       0       0  ...        0        0        0        0        0   \n",
      "Aisle 89       0       0  ...        0        0        0        0        0   \n",
      "Aisle 90       0       0  ...        0        0        0        0        0   \n",
      "\n",
      "          Item 54  Item 55  Item 56  Item 57  Item 58  \n",
      "Aisle 0         0        0        0        0        0  \n",
      "Aisle 1         0        0        0        0        0  \n",
      "Aisle 2         0        0        0        0        0  \n",
      "Aisle 3         0        0        0        0        0  \n",
      "Aisle 4         0        0        0        0        0  \n",
      "...           ...      ...      ...      ...      ...  \n",
      "Aisle 86        0        0        0        0        0  \n",
      "Aisle 87        0        0        0        0        0  \n",
      "Aisle 88        0        0        0        0        0  \n",
      "Aisle 89        0        0        0        0        0  \n",
      "Aisle 90        0        0        0        0        0  \n",
      "\n",
      "[91 rows x 59 columns]\n"
     ]
    }
   ],
   "execution_count": 115
  },
  {
   "metadata": {
    "ExecuteTime": {
     "end_time": "2025-04-22T21:43:13.525025Z",
     "start_time": "2025-04-22T21:43:13.512801Z"
    }
   },
   "cell_type": "code",
   "source": [
    "model_lp,X,Y=build_lp_model(parsed_data,best_A,clique_constraints=None,lp_filename=\"model.lp\")\n",
    "model_lp.write(\"lp_filename.lp\")"
   ],
   "id": "b5f6df9d7b8e8b41",
   "outputs": [
    {
     "name": "stdout",
     "output_type": "stream",
     "text": [
      "     Building LP model...\n",
      "     LP model successfully built with 0 clique constraints.\n"
     ]
    }
   ],
   "execution_count": 116
  },
  {
   "metadata": {
    "ExecuteTime": {
     "end_time": "2025-04-22T21:43:13.678072Z",
     "start_time": "2025-04-22T21:43:13.667295Z"
    }
   },
   "cell_type": "code",
   "source": "A,b=pre_process_constraints(parsed_data)",
   "id": "66a0eb71f2c71a1c",
   "outputs": [],
   "execution_count": 117
  },
  {
   "metadata": {
    "ExecuteTime": {
     "end_time": "2025-04-22T21:43:13.775340Z",
     "start_time": "2025-04-22T21:43:13.772176Z"
    }
   },
   "cell_type": "code",
   "source": "len(A)",
   "id": "f657a7e0d14aca5d",
   "outputs": [
    {
     "data": {
      "text/plain": [
       "61"
      ]
     },
     "execution_count": 118,
     "metadata": {},
     "output_type": "execute_result"
    }
   ],
   "execution_count": 118
  },
  {
   "metadata": {
    "ExecuteTime": {
     "end_time": "2025-04-22T21:43:15.696095Z",
     "start_time": "2025-04-22T21:43:15.692571Z"
    }
   },
   "cell_type": "code",
   "source": "len(b)",
   "id": "ced8f262e6647c23",
   "outputs": [
    {
     "data": {
      "text/plain": [
       "61"
      ]
     },
     "execution_count": 119,
     "metadata": {},
     "output_type": "execute_result"
    }
   ],
   "execution_count": 119
  },
  {
   "metadata": {
    "ExecuteTime": {
     "end_time": "2025-04-22T21:43:15.878059Z",
     "start_time": "2025-04-22T21:43:15.874590Z"
    }
   },
   "cell_type": "code",
   "source": [
    "S=clique_detection(A,b)\n",
    "G=graph_builder(S)\n",
    "S_extended=clique_extension(G,S)\n",
    "S_strenghted=remove_dominated_cliques(S_extended)"
   ],
   "id": "5c7314fd6d31e6e5",
   "outputs": [],
   "execution_count": 120
  },
  {
   "metadata": {
    "ExecuteTime": {
     "end_time": "2025-04-22T21:43:17.090474Z",
     "start_time": "2025-04-22T21:43:17.083302Z"
    }
   },
   "cell_type": "code",
   "source": "len(S_strenghted)",
   "id": "13978b0fa5527917",
   "outputs": [
    {
     "data": {
      "text/plain": [
       "25"
      ]
     },
     "execution_count": 121,
     "metadata": {},
     "output_type": "execute_result"
    }
   ],
   "execution_count": 121
  },
  {
   "metadata": {
    "ExecuteTime": {
     "end_time": "2025-04-22T21:43:17.372975Z",
     "start_time": "2025-04-22T21:43:17.365839Z"
    }
   },
   "cell_type": "code",
   "source": "S_strenghted",
   "id": "6991cbd2295301a",
   "outputs": [
    {
     "data": {
      "text/plain": [
       "[[0, 142],\n",
       " [0, 199],\n",
       " [2, 127],\n",
       " [3, 151],\n",
       " [4, 135],\n",
       " [8, 155],\n",
       " [9, 125],\n",
       " [9, 130],\n",
       " [9, 146],\n",
       " [9, 173],\n",
       " [9, 213],\n",
       " [11, 139],\n",
       " [11, 213],\n",
       " [12, 150],\n",
       " [14, 135],\n",
       " [133, 14],\n",
       " [169, 11],\n",
       " [177, 4],\n",
       " [177, 14],\n",
       " [190, 14],\n",
       " [192, 13],\n",
       " [193, 2],\n",
       " [193, 15],\n",
       " [200, 13],\n",
       " [203, 7]]"
      ]
     },
     "execution_count": 122,
     "metadata": {},
     "output_type": "execute_result"
    }
   ],
   "execution_count": 122
  },
  {
   "metadata": {
    "ExecuteTime": {
     "end_time": "2025-04-22T21:43:17.572642Z",
     "start_time": "2025-04-22T21:43:17.569816Z"
    }
   },
   "cell_type": "code",
   "source": "\n",
   "id": "cf787edaadf2114d",
   "outputs": [],
   "execution_count": 122
  },
  {
   "metadata": {
    "ExecuteTime": {
     "end_time": "2025-04-22T21:43:19.331221Z",
     "start_time": "2025-04-22T21:43:19.276360Z"
    }
   },
   "cell_type": "code",
   "source": [
    "model_best,added_cliques,Xcut,Ycut=clique_cut_separator(parsed_data,\n",
    "                                                            best_A,\n",
    "                                                            G_all,\n",
    "                                                            S_strenghted,\n",
    "                                                            max_rounds=20,\n",
    "                                                            min_viol=1e-4,\n",
    "                                                            instance_name=instance)"
   ],
   "id": "81cc99a873bb27af",
   "outputs": [
    {
     "name": "stdout",
     "output_type": "stream",
     "text": [
      "\n",
      "🔁 ROUND 1\n",
      "     Building LP model...\n",
      "     LP model successfully built with 0 clique constraints.\n",
      "⚠️ Violated clique: [0, 199], weight sum = 1.0049 > 1.0001\n",
      "⚠️ Violated clique: [4, 135], weight sum = 1.0020 > 1.0001\n",
      "⚠️ Violated clique: [11, 139], weight sum = 1.7391 > 1.0001\n",
      "⚠️ Violated clique: [11, 213], weight sum = 1.4224 > 1.0001\n",
      "⚠️ Violated clique: [14, 135], weight sum = 1.0005 > 1.0001\n",
      "⚠️ Violated clique: [133, 14], weight sum = 1.0005 > 1.0001\n",
      "⚠️ Violated clique: [169, 11], weight sum = 1.8003 > 1.0001\n",
      "⚠️ Violated clique: [177, 4], weight sum = 1.0011 > 1.0001\n",
      "⚠️ Violated clique: [190, 14], weight sum = 1.0005 > 1.0001\n",
      "➕ 9 new clique cuts added.\n",
      "\n",
      "🔁 ROUND 2\n",
      "     Building LP model...\n",
      "     LP model successfully built with 9 clique constraints.\n",
      "⚠️ Violated clique: [203, 7], weight sum = 1.3078 > 1.0001\n",
      "➕ 1 new clique cuts added.\n",
      "\n",
      "🔁 ROUND 3\n",
      "     Building LP model...\n",
      "     LP model successfully built with 10 clique constraints.\n",
      "🛑 No new violated cliques found.\n"
     ]
    }
   ],
   "execution_count": 123
  },
  {
   "metadata": {
    "ExecuteTime": {
     "end_time": "2025-04-22T21:43:20.684960Z",
     "start_time": "2025-04-22T21:43:20.682108Z"
    }
   },
   "cell_type": "code",
   "source": "len(added_cliques)",
   "id": "af85f428323840c0",
   "outputs": [
    {
     "data": {
      "text/plain": [
       "10"
      ]
     },
     "execution_count": 124,
     "metadata": {},
     "output_type": "execute_result"
    }
   ],
   "execution_count": 124
  },
  {
   "metadata": {
    "ExecuteTime": {
     "end_time": "2025-04-22T21:43:20.812028Z",
     "start_time": "2025-04-22T21:43:20.809276Z"
    }
   },
   "cell_type": "code",
   "source": "model_best.write(\"ip_filename.lp\")",
   "id": "1d9c3bfd649a6eff",
   "outputs": [],
   "execution_count": 125
  },
  {
   "metadata": {
    "ExecuteTime": {
     "end_time": "2025-04-22T21:43:21.657015Z",
     "start_time": "2025-04-22T21:43:21.122025Z"
    }
   },
   "cell_type": "code",
   "source": [
    "G_all=graph_builder(added_cliques)\n",
    "plot_expression_graph(G=G_all,\n",
    "                      num_orders=num_orders,\n",
    "                      num_aisles=num_aisles,\n",
    "                      cliques=added_cliques,\n",
    "                      title=\"Cliques for instance 0004\",\n",
    "                      graph_layout=\"circular\",\n",
    "                      figsize=8,\n",
    "                      nodesize=200,\n",
    "                      filename='graph0004')"
   ],
   "id": "c522eebafa2153dd",
   "outputs": [
    {
     "name": "stdout",
     "output_type": "stream",
     "text": [
      "saved plot to: graph0004\n"
     ]
    }
   ],
   "execution_count": 126
  },
  {
   "metadata": {},
   "cell_type": "code",
   "source": "",
   "id": "b9ba9b615fdccc93",
   "outputs": [],
   "execution_count": null
  },
  {
   "metadata": {},
   "cell_type": "code",
   "source": [
    "\n",
    "\n"
   ],
   "id": "98cf88b82aa064ea",
   "outputs": [],
   "execution_count": null
  },
  {
   "metadata": {},
   "cell_type": "code",
   "source": "",
   "id": "168913c58c7192b6",
   "outputs": [],
   "execution_count": null
  },
  {
   "metadata": {},
   "cell_type": "code",
   "source": "",
   "id": "f2064390259d06b3",
   "outputs": [],
   "execution_count": null
  }
 ],
 "metadata": {
  "kernelspec": {
   "display_name": "Python 3",
   "language": "python",
   "name": "python3"
  },
  "language_info": {
   "codemirror_mode": {
    "name": "ipython",
    "version": 2
   },
   "file_extension": ".py",
   "mimetype": "text/x-python",
   "name": "python",
   "nbconvert_exporter": "python",
   "pygments_lexer": "ipython2",
   "version": "2.7.6"
  }
 },
 "nbformat": 4,
 "nbformat_minor": 5
}
